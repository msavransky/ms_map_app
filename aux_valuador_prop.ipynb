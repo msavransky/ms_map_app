{
  "nbformat": 4,
  "nbformat_minor": 0,
  "metadata": {
    "colab": {
      "name": "aux valuador prop.ipynb",
      "provenance": []
    },
    "kernelspec": {
      "name": "python3",
      "display_name": "Python 3"
    },
    "language_info": {
      "name": "python"
    }
  },
  "cells": [
    {
      "cell_type": "code",
      "metadata": {
        "id": "gK2JpRd3i4sK"
      },
      "source": [
        "import numpy as np\n",
        "import pandas as pd\n",
        "import matplotlib.pylab as plt\n",
        "import seaborn as sns\n",
        "from sklearn.metrics import mean_squared_error\n",
        "from sklearn.model_selection import train_test_split\n",
        "from sklearn import linear_model\n",
        "from sklearn.tree import DecisionTreeRegressor\n",
        "from sklearn.neighbors import KNeighborsRegressor\n",
        "\n"
      ],
      "execution_count": null,
      "outputs": []
    },
    {
      "cell_type": "markdown",
      "metadata": {
        "id": "bIkU72qilHqx"
      },
      "source": [
        "general:"
      ]
    },
    {
      "cell_type": "code",
      "metadata": {
        "colab": {
          "base_uri": "https://localhost:8080/",
          "height": 530
        },
        "id": "oOUz8IavjMQN",
        "outputId": "1f2e7375-08eb-4bee-c49a-4e78879f71d9"
      },
      "source": [
        "data = pd.read_csv(\"DS_Proyecto_01_Datos_Properati.csv\")\n",
        "\n",
        "data.head()"
      ],
      "execution_count": null,
      "outputs": [
        {
          "output_type": "execute_result",
          "data": {
            "text/html": [
              "<div>\n",
              "<style scoped>\n",
              "    .dataframe tbody tr th:only-of-type {\n",
              "        vertical-align: middle;\n",
              "    }\n",
              "\n",
              "    .dataframe tbody tr th {\n",
              "        vertical-align: top;\n",
              "    }\n",
              "\n",
              "    .dataframe thead th {\n",
              "        text-align: right;\n",
              "    }\n",
              "</style>\n",
              "<table border=\"1\" class=\"dataframe\">\n",
              "  <thead>\n",
              "    <tr style=\"text-align: right;\">\n",
              "      <th></th>\n",
              "      <th>start_date</th>\n",
              "      <th>end_date</th>\n",
              "      <th>created_on</th>\n",
              "      <th>lat</th>\n",
              "      <th>lon</th>\n",
              "      <th>l1</th>\n",
              "      <th>l2</th>\n",
              "      <th>l3</th>\n",
              "      <th>rooms</th>\n",
              "      <th>bedrooms</th>\n",
              "      <th>bathrooms</th>\n",
              "      <th>surface_total</th>\n",
              "      <th>surface_covered</th>\n",
              "      <th>price</th>\n",
              "      <th>currency</th>\n",
              "      <th>title</th>\n",
              "      <th>description</th>\n",
              "      <th>property_type</th>\n",
              "      <th>operation_type</th>\n",
              "    </tr>\n",
              "  </thead>\n",
              "  <tbody>\n",
              "    <tr>\n",
              "      <th>0</th>\n",
              "      <td>2019-10-17</td>\n",
              "      <td>2019-12-23</td>\n",
              "      <td>2019-10-17</td>\n",
              "      <td>-34.605880</td>\n",
              "      <td>-58.384949</td>\n",
              "      <td>Argentina</td>\n",
              "      <td>Capital Federal</td>\n",
              "      <td>San Cristobal</td>\n",
              "      <td>7.0</td>\n",
              "      <td>7.0</td>\n",
              "      <td>2.0</td>\n",
              "      <td>140.0</td>\n",
              "      <td>140.0</td>\n",
              "      <td>153000.0</td>\n",
              "      <td>USD</td>\n",
              "      <td>***Venta semipiso centro, ideal hostel*****</td>\n",
              "      <td>DESCRIPCION DE LA PROPIEDAD: Departamento de 1...</td>\n",
              "      <td>Departamento</td>\n",
              "      <td>Venta</td>\n",
              "    </tr>\n",
              "    <tr>\n",
              "      <th>1</th>\n",
              "      <td>2019-10-17</td>\n",
              "      <td>2019-11-21</td>\n",
              "      <td>2019-10-17</td>\n",
              "      <td>-34.624056</td>\n",
              "      <td>-58.412110</td>\n",
              "      <td>Argentina</td>\n",
              "      <td>Capital Federal</td>\n",
              "      <td>Boedo</td>\n",
              "      <td>2.0</td>\n",
              "      <td>1.0</td>\n",
              "      <td>2.0</td>\n",
              "      <td>70.0</td>\n",
              "      <td>58.0</td>\n",
              "      <td>159000.0</td>\n",
              "      <td>USD</td>\n",
              "      <td>Espectacular PH reciclado en Boedo sin expensas.</td>\n",
              "      <td>PH reciclado en Boedo a una cuadra de la plaz...</td>\n",
              "      <td>PH</td>\n",
              "      <td>Venta</td>\n",
              "    </tr>\n",
              "    <tr>\n",
              "      <th>2</th>\n",
              "      <td>2019-10-17</td>\n",
              "      <td>2019-11-01</td>\n",
              "      <td>2019-10-17</td>\n",
              "      <td>-34.593569</td>\n",
              "      <td>-58.427474</td>\n",
              "      <td>Argentina</td>\n",
              "      <td>Capital Federal</td>\n",
              "      <td>Palermo</td>\n",
              "      <td>2.0</td>\n",
              "      <td>1.0</td>\n",
              "      <td>1.0</td>\n",
              "      <td>45.0</td>\n",
              "      <td>45.0</td>\n",
              "      <td>125000.0</td>\n",
              "      <td>USD</td>\n",
              "      <td>Depto.tipo casa de 2 ambientes en Venta en Pal...</td>\n",
              "      <td>2 ambienets amplio , excelente estado , patio ...</td>\n",
              "      <td>PH</td>\n",
              "      <td>Venta</td>\n",
              "    </tr>\n",
              "    <tr>\n",
              "      <th>3</th>\n",
              "      <td>2019-10-17</td>\n",
              "      <td>2019-12-23</td>\n",
              "      <td>2019-10-17</td>\n",
              "      <td>-34.581294</td>\n",
              "      <td>-58.436754</td>\n",
              "      <td>Argentina</td>\n",
              "      <td>Capital Federal</td>\n",
              "      <td>Palermo</td>\n",
              "      <td>2.0</td>\n",
              "      <td>1.0</td>\n",
              "      <td>1.0</td>\n",
              "      <td>85.0</td>\n",
              "      <td>50.0</td>\n",
              "      <td>295000.0</td>\n",
              "      <td>USD</td>\n",
              "      <td>COSTA RICA 5800 / PALERMO HOLLYWOOD / VENTA PH...</td>\n",
              "      <td>HERMOSO PH EN PALERMO!!!2 AMBIENTES TOTALMENTE...</td>\n",
              "      <td>PH</td>\n",
              "      <td>Venta</td>\n",
              "    </tr>\n",
              "    <tr>\n",
              "      <th>4</th>\n",
              "      <td>2019-10-17</td>\n",
              "      <td>2020-03-11</td>\n",
              "      <td>2019-10-17</td>\n",
              "      <td>-34.914194</td>\n",
              "      <td>-57.938219</td>\n",
              "      <td>Argentina</td>\n",
              "      <td>Bs.As. G.B.A. Zona Sur</td>\n",
              "      <td>La Plata</td>\n",
              "      <td>2.0</td>\n",
              "      <td>1.0</td>\n",
              "      <td>1.0</td>\n",
              "      <td>50.0</td>\n",
              "      <td>35.0</td>\n",
              "      <td>40000.0</td>\n",
              "      <td>USD</td>\n",
              "      <td>58 entre 1 y 2  Venta de departamento en ph.1 ...</td>\n",
              "      <td>58 entre 1 y 2  Venta de departamento en PH. P...</td>\n",
              "      <td>PH</td>\n",
              "      <td>Venta</td>\n",
              "    </tr>\n",
              "  </tbody>\n",
              "</table>\n",
              "</div>"
            ],
            "text/plain": [
              "   start_date    end_date  ... property_type  operation_type\n",
              "0  2019-10-17  2019-12-23  ...  Departamento           Venta\n",
              "1  2019-10-17  2019-11-21  ...            PH           Venta\n",
              "2  2019-10-17  2019-11-01  ...            PH           Venta\n",
              "3  2019-10-17  2019-12-23  ...            PH           Venta\n",
              "4  2019-10-17  2020-03-11  ...            PH           Venta\n",
              "\n",
              "[5 rows x 19 columns]"
            ]
          },
          "metadata": {
            "tags": []
          },
          "execution_count": 2
        }
      ]
    },
    {
      "cell_type": "code",
      "metadata": {
        "colab": {
          "base_uri": "https://localhost:8080/"
        },
        "id": "txMsE517oncc",
        "outputId": "f8f34ba0-9601-4808-cec1-312bb0bf08c4"
      },
      "source": [
        "data.shape"
      ],
      "execution_count": null,
      "outputs": [
        {
          "output_type": "execute_result",
          "data": {
            "text/plain": [
              "(146660, 19)"
            ]
          },
          "metadata": {
            "tags": []
          },
          "execution_count": 3
        }
      ]
    },
    {
      "cell_type": "code",
      "metadata": {
        "id": "mL1Mp9WxpFHP"
      },
      "source": [
        "data = data.drop_duplicates()"
      ],
      "execution_count": null,
      "outputs": []
    },
    {
      "cell_type": "code",
      "metadata": {
        "colab": {
          "base_uri": "https://localhost:8080/"
        },
        "id": "C6cGoAD6jVBl",
        "outputId": "eaa81e82-36ae-484f-d6db-4c38cd5e0046"
      },
      "source": [
        "lista_palabras = ['jardin','cochera','parrilla','pileta','terraza','lavadero']\n",
        "#creamos nueva columna con palabras de descripción en una lista\n",
        "data['desc_lista']=[x.lower().split(' ') for x in data['description']]\n",
        "#creamos nuevos atributos suponiendo que si la palabra aparece en la descripcion entonces la propiedad cuenta con esa caracteristica\n",
        "for palabra in lista_palabras:\n",
        "  data[[palabra]] = data.apply(\n",
        "    lambda row: sum(i == palabra for i in row['desc_lista'])>=1,\n",
        "    axis=1)\n",
        "#convertimos bool a int\n",
        "for palabra in lista_palabras:\n",
        "  data[[palabra]] = data[[palabra]].astype(int)\n",
        "\n",
        "#chequeamos cantidades de propiedades para cada palabra\n",
        "for palabra in lista_palabras:\n",
        "    print(palabra, data[palabra].sum())"
      ],
      "execution_count": null,
      "outputs": [
        {
          "output_type": "stream",
          "text": [
            "jardin 3065\n",
            "cochera 27573\n",
            "parrilla 17787\n",
            "pileta 12769\n",
            "terraza 23475\n",
            "lavadero 31902\n"
          ],
          "name": "stdout"
        }
      ]
    },
    {
      "cell_type": "code",
      "metadata": {
        "id": "VfITfTsijQOV"
      },
      "source": [
        "#Descartamos la columna auxiliar creada\n",
        "data = data.drop(['desc_lista'],axis = 1)\n",
        "\n",
        "data = data.drop(['start_date','end_date','created_on', 'l1', 'currency', 'operation_type','title','description'], axis =1)\n",
        "data = data[data.property_type.isin(['Departamento', 'Casa', 'PH'])] \n",
        "\n"
      ],
      "execution_count": null,
      "outputs": []
    },
    {
      "cell_type": "markdown",
      "metadata": {
        "id": "dxQ1DX5WlEli"
      },
      "source": [
        "outliers:"
      ]
    },
    {
      "cell_type": "code",
      "metadata": {
        "id": "7EAk7bRGjNuk"
      },
      "source": [
        "nuemerical_cols = ['lat', 'lon', 'rooms','bedrooms', 'bathrooms', 'surface_total', 'surface_covered', 'price']\n",
        "# Método 3 sigmas - estudiamos intervalos\n",
        "dictio_3s = {}\n",
        "for columna in nuemerical_cols:\n",
        "  #tres sigmas\n",
        "  #print(str(columna))\n",
        "  columna_mean = data[columna].mean()\n",
        "  columna_sdt = data[columna].std() \n",
        "  \n",
        "  min_3s = columna_mean  - 3*columna_sdt\n",
        "  max_3s = columna_mean  + 3*columna_sdt\n",
        "  dictio_3s[columna] = [min_3s,max_3s]\n",
        "  #print('(' + str(min_3s) + ',' + str(max_3s) + ')')\n",
        "  mascara_outliers = np.logical_or(data[columna] < min_3s, data[columna] > max_3s)\n",
        "\n",
        "dictio_IQR = {}\n",
        "for columna in nuemerical_cols:\n",
        "  Q1 = data[columna].quantile(0.25)\n",
        "  Q3 = data[columna].quantile(0.75)\n",
        "  IQR = Q3-Q1\n",
        "  min_IQR = Q1 - 3/2*IQR\n",
        "  max_IQR = Q3 + 3/2*IQR\n",
        "  dictio_IQR[columna] = [min_IQR, max_IQR]\n",
        "  mascara_outliers = np.logical_or(data[columna] < min_IQR, data[columna] > max_IQR)\n",
        "\n"
      ],
      "execution_count": null,
      "outputs": []
    },
    {
      "cell_type": "code",
      "metadata": {
        "colab": {
          "base_uri": "https://localhost:8080/"
        },
        "id": "W5nhfoe4qumh",
        "outputId": "0fffa357-ca36-4b44-e2a2-17044ed6036a"
      },
      "source": [
        "dictio_3s"
      ],
      "execution_count": null,
      "outputs": [
        {
          "output_type": "execute_result",
          "data": {
            "text/plain": [
              "{'bathrooms': [-1.0611251110001063, 4.254699466972003],\n",
              " 'bedrooms': [-1.3935497115587987, 5.396404379153351],\n",
              " 'lat': [-36.03377373479614, -33.17372612892605],\n",
              " 'lon': [-59.94839914775234, -56.980686819429565],\n",
              " 'price': [-620709.6925778633, 1095138.600347956],\n",
              " 'rooms': [-1.0914895769670951, 7.291515141154509],\n",
              " 'surface_covered': [-2667.1765244333283, 2893.0192431342184],\n",
              " 'surface_total': [-4162.348446703714, 4529.838504113495]}"
            ]
          },
          "metadata": {
            "tags": []
          },
          "execution_count": 8
        }
      ]
    },
    {
      "cell_type": "code",
      "metadata": {
        "colab": {
          "base_uri": "https://localhost:8080/"
        },
        "id": "4rDriDnWqYmc",
        "outputId": "2d6b375c-052b-4a6a-d9fc-3e1e1873d3ae"
      },
      "source": [
        "# Creamos masacaras y filtramos en cada atributo elegimos el método más conveniente \n",
        "mascara_outliers = np.logical_and(\n",
        "np.logical_not(np.logical_or(data['lat'] < dictio_3s['lat'][0]  , data['lat'] > dictio_3s['lat'][1])),\n",
        "np.logical_not(np.logical_or(data['lon'] < dictio_3s['lon'][0]  , data['lon'] > dictio_3s['lon'][1])))\n",
        "print(mascara_outliers.sum())\n",
        "data = data[mascara_outliers]\n",
        "print(data.shape)\n",
        "\n",
        "mascara_outliers1 = np.logical_and(\n",
        "np.logical_not(np.logical_or(data['rooms'] < dictio_3s['rooms'][0]  , data['rooms'] > dictio_3s['rooms'][1])),\n",
        "np.logical_not(np.logical_or(data['bedrooms'] < dictio_3s['bedrooms'][0]  , data['bedrooms'] > dictio_3s['bedrooms'][1])))\n",
        "print(mascara_outliers1.sum())\n",
        "data = data[mascara_outliers1]\n",
        "print(data.shape)\n",
        "\n",
        "mascara_outliers2 = np.logical_and(\n",
        "np.logical_not(np.logical_or(data['bathrooms'] < dictio_IQR['bathrooms'][0]  , data['bathrooms'] > dictio_IQR['bathrooms'][1])),\n",
        "np.logical_not(np.logical_or(data['price'] < dictio_3s['price'][0]  , data['price'] > dictio_3s['price'][1])))\n",
        "print(mascara_outliers2.sum())\n",
        "data = data[mascara_outliers2]\n",
        "print(data.shape)\n",
        "\n",
        "mascara_outliers3 = np.logical_and(\n",
        "np.logical_not(np.logical_or(data['surface_total'] < dictio_IQR['surface_total'][0]  , data['surface_total'] > dictio_IQR['surface_total'][1])),\n",
        "np.logical_not(np.logical_or(data['surface_covered'] < dictio_IQR['surface_covered'][0]  , data['surface_covered'] > dictio_IQR['surface_covered'][1])))\n",
        "print(mascara_outliers3.sum())\n",
        "data = data[mascara_outliers3]\n",
        "print(data.shape)\n"
      ],
      "execution_count": null,
      "outputs": [
        {
          "output_type": "stream",
          "text": [
            "140818\n",
            "(140818, 17)\n",
            "138920\n",
            "(138920, 17)\n",
            "133282\n",
            "(133282, 17)\n",
            "122318\n",
            "(122318, 17)\n"
          ],
          "name": "stdout"
        }
      ]
    },
    {
      "cell_type": "code",
      "metadata": {
        "id": "Lo6qBwhXkW7n"
      },
      "source": [
        "#Filtramos a ojo las siguientes:\n",
        "data = data[(data.price>=10000) & (data.bedrooms>=1)]\n",
        "\n",
        "#Filtramos a ojo las siguientes:\n",
        "data = data[(data.surface_total>=data.surface_covered) & (data.surface_total>=15)]"
      ],
      "execution_count": null,
      "outputs": []
    },
    {
      "cell_type": "code",
      "metadata": {
        "id": "jaVmF3x3kdzV"
      },
      "source": [
        "data = pd.get_dummies(data, columns=['property_type','l2'])"
      ],
      "execution_count": null,
      "outputs": []
    },
    {
      "cell_type": "markdown",
      "metadata": {
        "id": "IyDs0x7IlAef"
      },
      "source": [
        "faltantes:"
      ]
    },
    {
      "cell_type": "code",
      "metadata": {
        "colab": {
          "base_uri": "https://localhost:8080/"
        },
        "id": "XJptHoVJkjOm",
        "outputId": "d4f6daa8-d789-4c66-b0c2-fc1899f80f8b"
      },
      "source": [
        "data['bathrooms'] = data.apply(\n",
        "    lambda row: (row['rooms']//2 +1) if np.isnan(row['bathrooms']) else row['bathrooms'],\n",
        "    axis=1\n",
        ")\n",
        "\n",
        "#Completamos faltantes en lat y lon usando el promedio de los valores agrupando por barrio respectivamente.\n",
        "data['lat'].fillna(data.groupby(['l3'])['lat'].transform('mean'), inplace=True)\n",
        "data['lon'].fillna(data.groupby(['l3'])['lon'].transform('mean'), inplace=True)\n",
        "\n",
        "data.isnull().sum()\n",
        "\n",
        "\n",
        "\n"
      ],
      "execution_count": null,
      "outputs": [
        {
          "output_type": "execute_result",
          "data": {
            "text/plain": [
              "lat                            0\n",
              "lon                            0\n",
              "l3                             0\n",
              "rooms                          0\n",
              "bedrooms                       0\n",
              "bathrooms                      0\n",
              "surface_total                  0\n",
              "surface_covered                0\n",
              "price                          0\n",
              "jardin                         0\n",
              "cochera                        0\n",
              "parrilla                       0\n",
              "pileta                         0\n",
              "terraza                        0\n",
              "lavadero                       0\n",
              "property_type_Casa             0\n",
              "property_type_Departamento     0\n",
              "property_type_PH               0\n",
              "l2_Bs.As. G.B.A. Zona Norte    0\n",
              "l2_Bs.As. G.B.A. Zona Oeste    0\n",
              "l2_Bs.As. G.B.A. Zona Sur      0\n",
              "l2_Capital Federal             0\n",
              "dtype: int64"
            ]
          },
          "metadata": {
            "tags": []
          },
          "execution_count": 12
        }
      ]
    },
    {
      "cell_type": "markdown",
      "metadata": {
        "id": "CufMwKrPnIKc"
      },
      "source": [
        "#MODELO\n",
        "XGBoost"
      ]
    },
    {
      "cell_type": "code",
      "metadata": {
        "colab": {
          "base_uri": "https://localhost:8080/",
          "height": 275
        },
        "id": "gLCSld31nfjF",
        "outputId": "5653b3d8-02c1-4839-dae9-93908c83ab92"
      },
      "source": [
        "#Aplicamos logaritmo a nuestra columna target\n",
        "data = data.drop(['l3'], axis=1)\n",
        "data['price'] = np.log(data['price'])\n",
        "data.head()"
      ],
      "execution_count": null,
      "outputs": [
        {
          "output_type": "execute_result",
          "data": {
            "text/html": [
              "<div>\n",
              "<style scoped>\n",
              "    .dataframe tbody tr th:only-of-type {\n",
              "        vertical-align: middle;\n",
              "    }\n",
              "\n",
              "    .dataframe tbody tr th {\n",
              "        vertical-align: top;\n",
              "    }\n",
              "\n",
              "    .dataframe thead th {\n",
              "        text-align: right;\n",
              "    }\n",
              "</style>\n",
              "<table border=\"1\" class=\"dataframe\">\n",
              "  <thead>\n",
              "    <tr style=\"text-align: right;\">\n",
              "      <th></th>\n",
              "      <th>lat</th>\n",
              "      <th>lon</th>\n",
              "      <th>rooms</th>\n",
              "      <th>bedrooms</th>\n",
              "      <th>bathrooms</th>\n",
              "      <th>surface_total</th>\n",
              "      <th>surface_covered</th>\n",
              "      <th>price</th>\n",
              "      <th>jardin</th>\n",
              "      <th>cochera</th>\n",
              "      <th>parrilla</th>\n",
              "      <th>pileta</th>\n",
              "      <th>terraza</th>\n",
              "      <th>lavadero</th>\n",
              "      <th>property_type_Casa</th>\n",
              "      <th>property_type_Departamento</th>\n",
              "      <th>property_type_PH</th>\n",
              "      <th>l2_Bs.As. G.B.A. Zona Norte</th>\n",
              "      <th>l2_Bs.As. G.B.A. Zona Oeste</th>\n",
              "      <th>l2_Bs.As. G.B.A. Zona Sur</th>\n",
              "      <th>l2_Capital Federal</th>\n",
              "    </tr>\n",
              "  </thead>\n",
              "  <tbody>\n",
              "    <tr>\n",
              "      <th>1</th>\n",
              "      <td>-34.624056</td>\n",
              "      <td>-58.412110</td>\n",
              "      <td>2.0</td>\n",
              "      <td>1.0</td>\n",
              "      <td>2.0</td>\n",
              "      <td>70.0</td>\n",
              "      <td>58.0</td>\n",
              "      <td>11.976659</td>\n",
              "      <td>0</td>\n",
              "      <td>0</td>\n",
              "      <td>0</td>\n",
              "      <td>0</td>\n",
              "      <td>0</td>\n",
              "      <td>0</td>\n",
              "      <td>0</td>\n",
              "      <td>0</td>\n",
              "      <td>1</td>\n",
              "      <td>0</td>\n",
              "      <td>0</td>\n",
              "      <td>0</td>\n",
              "      <td>1</td>\n",
              "    </tr>\n",
              "    <tr>\n",
              "      <th>2</th>\n",
              "      <td>-34.593569</td>\n",
              "      <td>-58.427474</td>\n",
              "      <td>2.0</td>\n",
              "      <td>1.0</td>\n",
              "      <td>1.0</td>\n",
              "      <td>45.0</td>\n",
              "      <td>45.0</td>\n",
              "      <td>11.736069</td>\n",
              "      <td>0</td>\n",
              "      <td>0</td>\n",
              "      <td>0</td>\n",
              "      <td>0</td>\n",
              "      <td>0</td>\n",
              "      <td>0</td>\n",
              "      <td>0</td>\n",
              "      <td>0</td>\n",
              "      <td>1</td>\n",
              "      <td>0</td>\n",
              "      <td>0</td>\n",
              "      <td>0</td>\n",
              "      <td>1</td>\n",
              "    </tr>\n",
              "    <tr>\n",
              "      <th>3</th>\n",
              "      <td>-34.581294</td>\n",
              "      <td>-58.436754</td>\n",
              "      <td>2.0</td>\n",
              "      <td>1.0</td>\n",
              "      <td>1.0</td>\n",
              "      <td>85.0</td>\n",
              "      <td>50.0</td>\n",
              "      <td>12.594731</td>\n",
              "      <td>0</td>\n",
              "      <td>0</td>\n",
              "      <td>0</td>\n",
              "      <td>0</td>\n",
              "      <td>0</td>\n",
              "      <td>0</td>\n",
              "      <td>0</td>\n",
              "      <td>0</td>\n",
              "      <td>1</td>\n",
              "      <td>0</td>\n",
              "      <td>0</td>\n",
              "      <td>0</td>\n",
              "      <td>1</td>\n",
              "    </tr>\n",
              "    <tr>\n",
              "      <th>4</th>\n",
              "      <td>-34.914194</td>\n",
              "      <td>-57.938219</td>\n",
              "      <td>2.0</td>\n",
              "      <td>1.0</td>\n",
              "      <td>1.0</td>\n",
              "      <td>50.0</td>\n",
              "      <td>35.0</td>\n",
              "      <td>10.596635</td>\n",
              "      <td>0</td>\n",
              "      <td>0</td>\n",
              "      <td>0</td>\n",
              "      <td>0</td>\n",
              "      <td>1</td>\n",
              "      <td>0</td>\n",
              "      <td>0</td>\n",
              "      <td>0</td>\n",
              "      <td>1</td>\n",
              "      <td>0</td>\n",
              "      <td>0</td>\n",
              "      <td>1</td>\n",
              "      <td>0</td>\n",
              "    </tr>\n",
              "    <tr>\n",
              "      <th>5</th>\n",
              "      <td>-34.593779</td>\n",
              "      <td>-58.441239</td>\n",
              "      <td>2.0</td>\n",
              "      <td>1.0</td>\n",
              "      <td>1.0</td>\n",
              "      <td>56.0</td>\n",
              "      <td>56.0</td>\n",
              "      <td>11.918391</td>\n",
              "      <td>0</td>\n",
              "      <td>0</td>\n",
              "      <td>0</td>\n",
              "      <td>0</td>\n",
              "      <td>1</td>\n",
              "      <td>0</td>\n",
              "      <td>0</td>\n",
              "      <td>0</td>\n",
              "      <td>1</td>\n",
              "      <td>0</td>\n",
              "      <td>0</td>\n",
              "      <td>0</td>\n",
              "      <td>1</td>\n",
              "    </tr>\n",
              "  </tbody>\n",
              "</table>\n",
              "</div>"
            ],
            "text/plain": [
              "         lat        lon  ...  l2_Bs.As. G.B.A. Zona Sur  l2_Capital Federal\n",
              "1 -34.624056 -58.412110  ...                          0                   1\n",
              "2 -34.593569 -58.427474  ...                          0                   1\n",
              "3 -34.581294 -58.436754  ...                          0                   1\n",
              "4 -34.914194 -57.938219  ...                          1                   0\n",
              "5 -34.593779 -58.441239  ...                          0                   1\n",
              "\n",
              "[5 rows x 21 columns]"
            ]
          },
          "metadata": {
            "tags": []
          },
          "execution_count": 13
        }
      ]
    },
    {
      "cell_type": "code",
      "metadata": {
        "colab": {
          "base_uri": "https://localhost:8080/"
        },
        "id": "yFczEMRn1y-5",
        "outputId": "09ba02a2-3d93-41ad-e095-d87b4767b823"
      },
      "source": [
        "data.columns"
      ],
      "execution_count": null,
      "outputs": [
        {
          "output_type": "execute_result",
          "data": {
            "text/plain": [
              "Index(['lat', 'lon', 'rooms', 'bedrooms', 'bathrooms', 'surface_total',\n",
              "       'surface_covered', 'price', 'jardin', 'cochera', 'parrilla', 'pileta',\n",
              "       'terraza', 'lavadero', 'property_type_Casa',\n",
              "       'property_type_Departamento', 'property_type_PH',\n",
              "       'l2_Bs.As. G.B.A. Zona Norte', 'l2_Bs.As. G.B.A. Zona Oeste',\n",
              "       'l2_Bs.As. G.B.A. Zona Sur', 'l2_Capital Federal'],\n",
              "      dtype='object')"
            ]
          },
          "metadata": {
            "tags": []
          },
          "execution_count": 14
        }
      ]
    },
    {
      "cell_type": "code",
      "metadata": {
        "id": "5cpjyyIel2o7"
      },
      "source": [
        "import xgboost as xgb\n",
        "from sklearn.model_selection import train_test_split\n",
        "from sklearn.metrics import mean_squared_error, r2_score, mean_absolute_error\n",
        "X_train_xgb1, X_test_xgb1 = train_test_split(data, test_size=.3, random_state=1999)\n",
        "\n",
        "X_train_xgb = xgb.DMatrix(X_train_xgb1.drop(['price'], axis= 1), label=X_train_xgb1['price'])\n",
        "X_test_xgb = xgb.DMatrix(X_test_xgb1.drop(['price'], axis = 1), label=X_test_xgb1['price'])\n",
        "\n",
        "parametros = {\"booster\":\"gbtree\", \"max_depth\": 15, \"eta\": 0.3, \"nthread\":3}\n",
        "rondas = 20\n",
        "\n",
        "modelo = xgb.train(parametros, X_train_xgb, rondas)\n",
        "\n",
        "prediccion = modelo.predict(X_test_xgb)\n",
        "prediccion_train = modelo.predict(X_train_xgb)\n",
        "expy_train = np.exp(X_train_xgb1['price'])\n",
        "expy_train_pred = np.exp(prediccion_train)\n",
        "expy_test = np.exp(X_test_xgb1['price'])\n",
        "expy_test_pred = np.exp(prediccion)\n"
      ],
      "execution_count": null,
      "outputs": []
    },
    {
      "cell_type": "code",
      "metadata": {
        "id": "KbQi0BSTSueD"
      },
      "source": [
        "modelo.save_model('0001.model')\n",
        "# dump model\n",
        "modelo.dump_model('dump.raw.txt')\n",
        "# dump model with feature map\n",
        "# modelo.dump_model('dump.raw.txt', 'featmap.txt')"
      ],
      "execution_count": null,
      "outputs": []
    },
    {
      "cell_type": "code",
      "metadata": {
        "id": "0eLjBtkGHMN-"
      },
      "source": [
        "filename = 'modelo.sav'\n",
        "pickle.dump(modelo, open(filename, 'wb'))"
      ],
      "execution_count": null,
      "outputs": []
    },
    {
      "cell_type": "code",
      "metadata": {
        "colab": {
          "base_uri": "https://localhost:8080/"
        },
        "id": "G151Gtjnn41y",
        "outputId": "ffe8f1e2-b7c1-441c-a5a7-fce236a28d96"
      },
      "source": [
        "rmse_train = np.sqrt(mean_squared_error(np.exp(X_train_xgb1['price']), np.exp(prediccion_train)))\n",
        "mae_train = mean_absolute_error(np.exp(X_train_xgb1['price']), np.exp(prediccion_train))\n",
        "r2_train = r2_score(np.exp(X_train_xgb1['price']), np.exp(prediccion_train))\n",
        "print(str(modelo).upper())\n",
        "print(\"ERROR  TRAIN    \")\n",
        "print(\"------ ---------\")\n",
        "print(\"%-7s %-9.2f  \"%('RECM:',rmse_train))\n",
        "print(\"%-7s %-9.2f  \"%('MAE:',mae_train))\n",
        "print(\"%-10s %-9.2f  \"%('R2:',r2_train))\n",
        "\n",
        "rmse_test = np.sqrt(mean_squared_error(np.exp(X_test_xgb1['price']), np.exp(prediccion)))\n",
        "mae_test = mean_absolute_error(np.exp(X_test_xgb1['price']), np.exp(prediccion))\n",
        "r2_test = r2_score(np.exp(X_test_xgb1['price']), np.exp(prediccion))\n",
        "print(str(modelo).upper())\n",
        "print(\"ERROR  TEST    \")\n",
        "print(\"------ --------\")\n",
        "print(\"%-6s %-9.2f  \"%('RECM:',rmse_test))\n",
        "print(\"%-6s %-9.2f  \"%('MAE:',mae_test))\n",
        "print(\"%-10s %-9.2f  \"%('R2:',r2_test))"
      ],
      "execution_count": null,
      "outputs": [
        {
          "output_type": "stream",
          "text": [
            "<XGBOOST.CORE.BOOSTER OBJECT AT 0X7F0D0B0C4310>\n",
            "ERROR  TRAIN    \n",
            "------ ---------\n",
            "RECM:   29348.78   \n",
            "MAE:    17043.86   \n",
            "R2:        0.95       \n",
            "<XGBOOST.CORE.BOOSTER OBJECT AT 0X7F0D0B0C4310>\n",
            "ERROR  TEST    \n",
            "------ --------\n",
            "RECM:  41877.53   \n",
            "MAE:   23899.08   \n",
            "R2:        0.89       \n"
          ],
          "name": "stdout"
        }
      ]
    },
    {
      "cell_type": "markdown",
      "metadata": {
        "id": "ODiRniV1z57u"
      },
      "source": [
        "prueba con cuba:"
      ]
    },
    {
      "cell_type": "code",
      "metadata": {
        "id": "hneY6Tvjz5Hm"
      },
      "source": [
        "ejemplo = [-34.5588753, -58.4563418, 3, 2, 2, 90, 80, 0, 1, 1, 1, 1, 1, 0, 1, 0, 0, 0, 0, 1]"
      ],
      "execution_count": null,
      "outputs": []
    },
    {
      "cell_type": "code",
      "metadata": {
        "id": "KFg8q1dj2QFS"
      },
      "source": [
        "df = pd.DataFrame(columns=['lat', 'lon', 'rooms', 'bedrooms', 'bathrooms', 'surface_total',\n",
        "       'surface_covered', 'jardin', 'cochera', 'parrilla', 'pileta',\n",
        "       'terraza', 'lavadero', 'property_type_Casa',\n",
        "       'property_type_Departamento', 'property_type_PH',\n",
        "       'l2_Bs.As. G.B.A. Zona Norte', 'l2_Bs.As. G.B.A. Zona Oeste',\n",
        "       'l2_Bs.As. G.B.A. Zona Sur', 'l2_Capital Federal'])"
      ],
      "execution_count": null,
      "outputs": []
    },
    {
      "cell_type": "code",
      "metadata": {
        "id": "uwR9WHNj2_d3"
      },
      "source": [
        ""
      ],
      "execution_count": null,
      "outputs": []
    },
    {
      "cell_type": "code",
      "metadata": {
        "id": "GFcOmcUL2U3Y"
      },
      "source": [
        "df.loc[0] = ejemplo"
      ],
      "execution_count": null,
      "outputs": []
    },
    {
      "cell_type": "code",
      "metadata": {
        "colab": {
          "base_uri": "https://localhost:8080/",
          "height": 145
        },
        "id": "jZBLdoFZ2Zyr",
        "outputId": "6aa6cb02-a5c0-4a16-a026-77d253f9d315"
      },
      "source": [
        "df"
      ],
      "execution_count": null,
      "outputs": [
        {
          "output_type": "execute_result",
          "data": {
            "text/html": [
              "<div>\n",
              "<style scoped>\n",
              "    .dataframe tbody tr th:only-of-type {\n",
              "        vertical-align: middle;\n",
              "    }\n",
              "\n",
              "    .dataframe tbody tr th {\n",
              "        vertical-align: top;\n",
              "    }\n",
              "\n",
              "    .dataframe thead th {\n",
              "        text-align: right;\n",
              "    }\n",
              "</style>\n",
              "<table border=\"1\" class=\"dataframe\">\n",
              "  <thead>\n",
              "    <tr style=\"text-align: right;\">\n",
              "      <th></th>\n",
              "      <th>lat</th>\n",
              "      <th>lon</th>\n",
              "      <th>rooms</th>\n",
              "      <th>bedrooms</th>\n",
              "      <th>bathrooms</th>\n",
              "      <th>surface_total</th>\n",
              "      <th>surface_covered</th>\n",
              "      <th>jardin</th>\n",
              "      <th>cochera</th>\n",
              "      <th>parrilla</th>\n",
              "      <th>pileta</th>\n",
              "      <th>terraza</th>\n",
              "      <th>lavadero</th>\n",
              "      <th>property_type_Casa</th>\n",
              "      <th>property_type_Departamento</th>\n",
              "      <th>property_type_PH</th>\n",
              "      <th>l2_Bs.As. G.B.A. Zona Norte</th>\n",
              "      <th>l2_Bs.As. G.B.A. Zona Oeste</th>\n",
              "      <th>l2_Bs.As. G.B.A. Zona Sur</th>\n",
              "      <th>l2_Capital Federal</th>\n",
              "    </tr>\n",
              "  </thead>\n",
              "  <tbody>\n",
              "    <tr>\n",
              "      <th>0</th>\n",
              "      <td>-34.558875</td>\n",
              "      <td>-58.456342</td>\n",
              "      <td>3.0</td>\n",
              "      <td>2.0</td>\n",
              "      <td>2.0</td>\n",
              "      <td>90.0</td>\n",
              "      <td>80.0</td>\n",
              "      <td>0.0</td>\n",
              "      <td>1.0</td>\n",
              "      <td>1.0</td>\n",
              "      <td>1.0</td>\n",
              "      <td>1.0</td>\n",
              "      <td>1.0</td>\n",
              "      <td>0.0</td>\n",
              "      <td>1.0</td>\n",
              "      <td>0.0</td>\n",
              "      <td>0.0</td>\n",
              "      <td>0.0</td>\n",
              "      <td>0.0</td>\n",
              "      <td>1.0</td>\n",
              "    </tr>\n",
              "  </tbody>\n",
              "</table>\n",
              "</div>"
            ],
            "text/plain": [
              "         lat        lon  ...  l2_Bs.As. G.B.A. Zona Sur  l2_Capital Federal\n",
              "0 -34.558875 -58.456342  ...                        0.0                 1.0\n",
              "\n",
              "[1 rows x 20 columns]"
            ]
          },
          "metadata": {
            "tags": []
          },
          "execution_count": 28
        }
      ]
    },
    {
      "cell_type": "code",
      "metadata": {
        "colab": {
          "base_uri": "https://localhost:8080/"
        },
        "id": "vyOn-lc_2fG1",
        "outputId": "999da503-9126-4e51-dcbd-fae789679f65"
      },
      "source": [
        "modelo.predict(xgb.DMatrix(df))"
      ],
      "execution_count": null,
      "outputs": [
        {
          "output_type": "execute_result",
          "data": {
            "text/plain": [
              "array([12.91988], dtype=float32)"
            ]
          },
          "metadata": {
            "tags": []
          },
          "execution_count": 31
        }
      ]
    },
    {
      "cell_type": "code",
      "metadata": {
        "colab": {
          "base_uri": "https://localhost:8080/"
        },
        "id": "pfm3vXb32u67",
        "outputId": "dd31dff4-d2a1-4510-aab6-3aad6e30c4e4"
      },
      "source": [
        "int(np.exp(modelo.predict(xgb.DMatrix(df))))"
      ],
      "execution_count": null,
      "outputs": [
        {
          "output_type": "execute_result",
          "data": {
            "text/plain": [
              "408349"
            ]
          },
          "metadata": {
            "tags": []
          },
          "execution_count": 38
        }
      ]
    },
    {
      "cell_type": "markdown",
      "metadata": {
        "id": "CONG70LAt8wW"
      },
      "source": [
        "Modelo con fiteado con todo el dataset:"
      ]
    },
    {
      "cell_type": "code",
      "metadata": {
        "id": "g5B5qSNNt5c9"
      },
      "source": [
        "X_xgb = xgb.DMatrix(data.drop(['price'], axis= 1), label=data['price'])\n",
        "parametros = {\"booster\":\"gbtree\", \"max_depth\": 15, \"eta\": 0.3, \"nthread\":3}\n",
        "rondas = 20\n",
        "model = xgb.train(parametros, X_xgb, rondas)\n",
        "#Este habria que exportar!"
      ],
      "execution_count": null,
      "outputs": []
    },
    {
      "cell_type": "code",
      "metadata": {
        "colab": {
          "base_uri": "https://localhost:8080/"
        },
        "id": "VM_VTzQbDuxU",
        "outputId": "8950b5a7-dce5-4221-b71b-a661e9897987"
      },
      "source": [
        "int(np.exp(model.predict(xgb.DMatrix(df))))"
      ],
      "execution_count": null,
      "outputs": [
        {
          "output_type": "execute_result",
          "data": {
            "text/plain": [
              "413452"
            ]
          },
          "metadata": {
            "tags": []
          },
          "execution_count": 40
        }
      ]
    },
    {
      "cell_type": "code",
      "metadata": {
        "id": "v1LbffKTDog6"
      },
      "source": [
        "import pickle"
      ],
      "execution_count": null,
      "outputs": []
    },
    {
      "cell_type": "code",
      "metadata": {
        "id": "7syzV9-gDy1a"
      },
      "source": [
        "# save the model to disk\n",
        "filename = 'model.sav'\n",
        "pickle.dump(model, open(filename, 'wb'))"
      ],
      "execution_count": null,
      "outputs": []
    },
    {
      "cell_type": "code",
      "metadata": {
        "colab": {
          "base_uri": "https://localhost:8080/"
        },
        "id": "6gpGfA79D-lx",
        "outputId": "cf0d9e50-87d3-4166-b050-de04d943f1c4"
      },
      "source": [
        "loaded_model = pickle.load(open(filename, 'rb'))\n",
        "int(np.exp(loaded_model.predict(xgb.DMatrix(df))))\n"
      ],
      "execution_count": null,
      "outputs": [
        {
          "output_type": "execute_result",
          "data": {
            "text/plain": [
              "413452"
            ]
          },
          "metadata": {
            "tags": []
          },
          "execution_count": 44
        }
      ]
    },
    {
      "cell_type": "code",
      "metadata": {
        "colab": {
          "base_uri": "https://localhost:8080/"
        },
        "id": "A6IoNXfeEHDx",
        "outputId": "af9df0ec-7484-41ee-d906-8eee2f2458b0"
      },
      "source": [
        "a, b ,c = [1,2,3]\n",
        "print(c)"
      ],
      "execution_count": null,
      "outputs": [
        {
          "output_type": "stream",
          "text": [
            "3\n"
          ],
          "name": "stdout"
        }
      ]
    }
  ]
}